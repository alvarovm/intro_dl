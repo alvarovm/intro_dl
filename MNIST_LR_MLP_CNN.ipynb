{
  "nbformat": 4,
  "nbformat_minor": 0,
  "metadata": {
    "colab": {
      "name": "Template.ipynb",
      "provenance": [],
      "toc_visible": true
    },
    "kernelspec": {
      "display_name": "Python 3",
      "language": "python",
      "name": "python3"
    },
    "language_info": {
      "codemirror_mode": {
        "name": "ipython",
        "version": 3
      },
      "file_extension": ".py",
      "mimetype": "text/x-python",
      "name": "python",
      "nbconvert_exporter": "python",
      "pygments_lexer": "ipython3",
      "version": "3.7.7"
    },
    "toc": {
      "base_numbering": 1,
      "nav_menu": {},
      "number_sections": true,
      "sideBar": true,
      "skip_h1_title": false,
      "title_cell": "Table of Contents",
      "title_sidebar": "Contents",
      "toc_cell": false,
      "toc_position": {},
      "toc_section_display": true,
      "toc_window_display": false
    },
    "accelerator": "GPU"
  },
  "cells": [
    {
      "cell_type": "markdown",
      "metadata": {
        "ExecuteTime": {
          "end_time": "2020-04-07T13:00:31.536172Z",
          "start_time": "2020-04-07T13:00:31.532636Z"
        },
        "colab_type": "text",
        "id": "v5lACW4qovun"
      },
      "source": [
        "Download colab_utils and import\n",
        "\n",
        "\n",
        "\n",
        "<a href=\"https://colab.research.google.com/github/beangoben/intro_dl/blob/master/MNIST_LR_MLP_CNN.ipynb\" target=\"_parent\"><img src=\"https://colab.research.google.com/assets/colab-badge.svg\" alt=\"Open In Colab\"/></a>\n"
      ]
    },
    {
      "cell_type": "code",
      "metadata": {
        "ExecuteTime": {
          "end_time": "2020-04-07T12:59:10.855114Z",
          "start_time": "2020-04-07T12:59:10.540431Z"
        },
        "colab_type": "code",
        "id": "J5HaH9Yvovuo",
        "scrolled": true,
        "colab": {}
      },
      "source": [
        "!wget https://raw.githubusercontent.com/beangoben/workshop_template/master/colab_utils.py -O colab_utils.py\n",
        "!rm -rf sample_data\n",
        "import colab_utils\n",
        "!pip install git+https://github.com/google/flax.git\n",
        "!pip install umap-learn"
      ],
      "execution_count": null,
      "outputs": []
    },
    {
      "cell_type": "markdown",
      "metadata": {
        "id": "eXO3LxibxXFq",
        "colab_type": "text"
      },
      "source": [
        "# MUY IMPORTANTE: USA UN GPU O TPU (choose runtime)"
      ]
    },
    {
      "cell_type": "markdown",
      "metadata": {
        "colab_type": "text",
        "id": "T-CPqE95ovu1"
      },
      "source": [
        "# Importa modulos\n"
      ]
    },
    {
      "cell_type": "code",
      "metadata": {
        "colab_type": "code",
        "id": "l7xIWY9Qovu8",
        "colab": {}
      },
      "source": [
        "from collections import OrderedDict\n",
        "import tqdm.auto as tqdm\n",
        "from more_itertools import chunked\n",
        "import colab_utils\n",
        "\n",
        "import numpy as np\n",
        "import scipy as sp\n",
        "import pandas as pd\n",
        "import matplotlib.pyplot as plt\n",
        "import seaborn as sns\n",
        "import altair as alt\n",
        "\n",
        "import umap\n",
        "import sklearn\n",
        "# Jax\n",
        "import jax\n",
        "from jax import numpy as jnp, random, jit, lax\n",
        "# Flax\n",
        "import flax\n",
        "from flax import nn, optim\n",
        "# Tensorflow\n",
        "import tensorflow as tf\n",
        "import tensorflow_datasets as tfds\n",
        "\n",
        "_ = jnp.square(2.)\n",
        "\n",
        "colab_utils.print_module_versions([tf, tfds, jax])\n",
        "colab_utils.matplotlib_settings()"
      ],
      "execution_count": null,
      "outputs": []
    },
    {
      "cell_type": "markdown",
      "metadata": {
        "id": "KjiBIEzTlEqQ",
        "colab_type": "text"
      },
      "source": [
        "Primero lodearemos algunos datos"
      ]
    },
    {
      "cell_type": "code",
      "metadata": {
        "id": "7pWqCsVPkOih",
        "colab_type": "code",
        "colab": {}
      },
      "source": [
        "#dataset = 'fashion_mnist'\n",
        "dataset_name = 'mnist'\n",
        "\n",
        "train_ds = tfds.as_numpy(tfds.load(dataset_name, split=tfds.Split.TRAIN, batch_size=-1))\n",
        "x_train, y_train = train_ds['image'], train_ds['label']\n",
        "\n",
        "test_ds = tfds.as_numpy(tfds.load(dataset_name, split=tfds.Split.TEST, batch_size=-1))\n",
        "x_test, y_test = test_ds['image'], test_ds['label']"
      ],
      "execution_count": null,
      "outputs": []
    },
    {
      "cell_type": "markdown",
      "metadata": {
        "id": "mmqjyUNFmTn9",
        "colab_type": "text"
      },
      "source": [
        "# Necesitamos DL? Primero EDA!"
      ]
    },
    {
      "cell_type": "code",
      "metadata": {
        "id": "IN4yYaz6lN8p",
        "colab_type": "code",
        "colab": {}
      },
      "source": [
        "def flatten_image(x):\n",
        "    return np.reshape(x, (x.shape[0],x.shape[1]*x.shape[2]))\n",
        "\n",
        "flat_x_train = flatten_image(x_train)\n",
        "flat_y_train = y_train.ravel()\n",
        "\n",
        "flat_x_test = flatten_image(x_test)\n",
        "flat_y_test = y_test.ravel()\n",
        "print(flat_x_train.shape, y_train.shape)\n",
        "print(flat_x_test.shape, y_test.shape)"
      ],
      "execution_count": null,
      "outputs": []
    },
    {
      "cell_type": "code",
      "metadata": {
        "id": "HKdlJXutnq85",
        "colab_type": "code",
        "colab": {}
      },
      "source": [
        "def labels_to_nodecolors(labels):\n",
        "    \"\"\"Convierte etqiuetas a colores.\"\"\"\n",
        "    cols = sns.color_palette(\"Set3\", 10)\n",
        "    return [cols[int(l)] for l in labels.ravel()]\n",
        "\n",
        "def plot_color_legend(dataset_name):\n",
        "    cols = sns.color_palette(\"Set3\", 10)\n",
        "    categories = {'fashion_mnist':['T-shirt/top','Trouser',\n",
        "                                   'Pullover','Dress', 'Coat','Sandal',\n",
        "               'Shirt','Sneaker','Bag','Ankle boot'],\n",
        "               'mnist': list(range(10))}[dataset_name]\n",
        "    sns.palplot(cols)\n",
        "    plt.xticks(np.arange(10), categories, rotation=45)\n",
        "    plt.show()\n",
        "    \n",
        "plot_color_legend(dataset_name)"
      ],
      "execution_count": null,
      "outputs": []
    },
    {
      "cell_type": "code",
      "metadata": {
        "id": "7borWmTHoBEJ",
        "colab_type": "code",
        "colab": {}
      },
      "source": [
        "import sklearn.pipeline\n",
        "import sklearn.decomposition\n",
        "import sklearn.preprocessing\n",
        "\n",
        "pca_pipe = sklearn.pipeline.Pipeline([('scaler', sklearn.preprocessing.StandardScaler()),\n",
        "                                  ('dim_reduce', sklearn.decomposition.PCA(2))])\n",
        "\n",
        "umap_pipe = sklearn.pipeline.Pipeline([('scaler', sklearn.preprocessing.StandardScaler()),\n",
        "                                  ('dim_reduce', umap.UMAP())])\n",
        "\n",
        "umap_pipe.fit(flat_x_train)\n",
        "x_umap = umap_pipe.transform(flat_x_test)\n",
        "\n",
        "pca_pipe.fit(flat_x_train)\n",
        "x_pca = pca_pipe.transform(flat_x_test)\n",
        "\n",
        "print(x_umap.shape, x_pca.shape)"
      ],
      "execution_count": null,
      "outputs": []
    },
    {
      "cell_type": "code",
      "metadata": {
        "id": "Rk5tqx6vocJ8",
        "colab_type": "code",
        "colab": {}
      },
      "source": [
        "plot_color_legend(dataset_name)\n",
        "plt.scatter(x_pca[:,0], x_pca[:, 1],\n",
        "            c=labels_to_nodecolors(flat_y_test),\n",
        "            s=1, alpha=0.5)\n",
        "plt.show()"
      ],
      "execution_count": null,
      "outputs": []
    },
    {
      "cell_type": "code",
      "metadata": {
        "id": "eqW9o6IkqKZL",
        "colab_type": "code",
        "colab": {}
      },
      "source": [
        "indices = np.random.permutation(len(x_umap))[:5000]\n",
        "\n",
        "vis_df = pd.DataFrame()\n",
        "vis_df['UMAP1'] = x_umap[indices, 0]\n",
        "vis_df['UMAP2'] = x_umap[indices, 1]\n",
        "vis_df['PC1'] = x_pca[indices, 0]\n",
        "vis_df['PC2'] = x_pca[indices, 1]\n",
        "vis_df['label'] = flat_y_test[indices]\n",
        "vis_df"
      ],
      "execution_count": null,
      "outputs": []
    },
    {
      "cell_type": "code",
      "metadata": {
        "id": "ONUhHQRjqPBB",
        "colab_type": "code",
        "colab": {}
      },
      "source": [
        "alt.Chart(vis_df).mark_circle(size=10).encode(\n",
        "    x='UMAP1:Q',\n",
        "    y='UMAP2:Q',\n",
        "    color='label:N',\n",
        "    tooltip=['label']\n",
        ").interactive()"
      ],
      "execution_count": null,
      "outputs": []
    },
    {
      "cell_type": "markdown",
      "metadata": {
        "id": "OrozQ1ilrrPV",
        "colab_type": "text"
      },
      "source": [
        "## Comparativa de PCA/UMAP"
      ]
    },
    {
      "cell_type": "code",
      "metadata": {
        "id": "2vxnFxlprqLR",
        "colab_type": "code",
        "colab": {}
      },
      "source": [
        "brush = alt.selection(type='interval', resolve='global')\n",
        "\n",
        "scatter1 = alt.Chart(vis_df).mark_circle(size=4).encode(\n",
        "    x='PC1:Q',\n",
        "    y='PC2:Q',\n",
        "    color = alt.condition(brush, alt.Color('label:N'), alt.value('lightgray')),\n",
        "    tooltip=['label']\n",
        ").add_selection(brush)\n",
        "\n",
        "scatter2 = alt.Chart(vis_df).mark_circle(size=4).encode(\n",
        "    x='UMAP1:Q',\n",
        "    y='UMAP2:Q',\n",
        "    color = alt.condition(brush, alt.Color('label:N'), alt.value('lightgray')),\n",
        "    tooltip=['label']\n",
        ").add_selection(brush)\n",
        "\n",
        "scatter1 | scatter2"
      ],
      "execution_count": null,
      "outputs": []
    },
    {
      "cell_type": "markdown",
      "metadata": {
        "id": "LPH1Uw96serJ",
        "colab_type": "text"
      },
      "source": [
        "# Necesitamos DL? Un modelo lineal\n",
        "\n",
        "Reloadear datos, ahora con splits"
      ]
    },
    {
      "cell_type": "code",
      "metadata": {
        "id": "oPJci6s-sg9p",
        "colab_type": "code",
        "colab": {}
      },
      "source": [
        "train_ds = tfds.as_numpy(tfds.load(dataset_name, split=tfds.Split.TRAIN, batch_size=-1))\n",
        "x_train, y_train = train_ds['image'], train_ds['label']\n",
        "\n",
        "test_ds = tfds.as_numpy(tfds.load(dataset_name, split=tfds.Split.TEST, batch_size=-1))\n",
        "x_test, y_test = test_ds['image'], test_ds['label']"
      ],
      "execution_count": null,
      "outputs": []
    },
    {
      "cell_type": "markdown",
      "metadata": {
        "id": "TLfBGZfg57M0",
        "colab_type": "text"
      },
      "source": [
        "Queremos :\n",
        "$$ \\hat{y} = W \\cdot x + b $$\n",
        "\n",
        "Talque la diferencia $|y-\\hat{y}|$ sea minima (error).\n",
        "\n",
        "* Cuales son las dimensiones de W y b?\n",
        "* Cuantos parametros necesitamos \"aprender\"?\n",
        "* Que significa aprender?\n",
        "* Como optimizamos W + b? \n"
      ]
    },
    {
      "cell_type": "code",
      "metadata": {
        "id": "5-VMJXC0672c",
        "colab_type": "code",
        "colab": {}
      },
      "source": [
        "def random_layer_params(m, n, key, scale=1e-2):\n",
        "  w_key, b_key = random.split(key)\n",
        "  return scale * random.normal(w_key, (n, m)), scale * random.normal(b_key, (n,))\n",
        "\n",
        "N_PIXELS = x_train.shape[1]*x_train.shape[2]\n",
        "N_LABELS = 10\n",
        "\n",
        "rng_key = random.PRNGKey(0)\n",
        "params = [random_layer_params(N_PIXELS, N_LABELS, rng_key)]\n",
        "params"
      ],
      "execution_count": null,
      "outputs": []
    },
    {
      "cell_type": "markdown",
      "metadata": {
        "id": "oPLRg6-L8PeF",
        "colab_type": "text"
      },
      "source": [
        "## Primero el \"modelo\"\n",
        "\n",
        "$$ \\hat{y} = W \\cdot x + b $$"
      ]
    },
    {
      "cell_type": "code",
      "metadata": {
        "id": "EwEBIN1a4UJs",
        "colab_type": "code",
        "colab": {}
      },
      "source": [
        "from jax.scipy.special import logsumexp\n",
        "\n",
        "def predict(params, x):\n",
        "    w,b = params[0]\n",
        "    logits = jnp.dot(w, x) + b\n",
        "    return logits - logsumexp(logits)"
      ],
      "execution_count": null,
      "outputs": []
    },
    {
      "cell_type": "code",
      "metadata": {
        "id": "rrewc0rU8vKg",
        "colab_type": "code",
        "colab": {}
      },
      "source": [
        "def jnp_flat_image(x):\n",
        "    return jnp.reshape(x, (len(x), x.shape[1]*x.shape[2]))\n",
        "\n",
        "one_image = x_train[[0]]\n",
        "print(one_image.shape)\n",
        "one_flat_image = jnp_flat_image(one_image)\n",
        "one_flat_image.shape"
      ],
      "execution_count": null,
      "outputs": []
    },
    {
      "cell_type": "code",
      "metadata": {
        "id": "6T5a4TbZ8sAK",
        "colab_type": "code",
        "colab": {}
      },
      "source": [
        "preds = predict(params, one_flat_image[0])\n",
        "preds"
      ],
      "execution_count": null,
      "outputs": []
    },
    {
      "cell_type": "markdown",
      "metadata": {
        "id": "dmIwTH7z9suV",
        "colab_type": "text"
      },
      "source": [
        "# VMAP: en accion, vectorizacion automatica"
      ]
    },
    {
      "cell_type": "code",
      "metadata": {
        "id": "91IpT9Yg9qg6",
        "colab_type": "code",
        "colab": {}
      },
      "source": [
        "batched_predict = jax.vmap(predict, (None, 0))\n",
        "batched_preds = batched_predict(params, one_flat_image)\n",
        "batched_preds"
      ],
      "execution_count": null,
      "outputs": []
    },
    {
      "cell_type": "markdown",
      "metadata": {
        "id": "OXa2sdYTKQd1",
        "colab_type": "text"
      },
      "source": [
        "## Como sabemos si estamos mejorando? "
      ]
    },
    {
      "cell_type": "code",
      "metadata": {
        "id": "WnfKijgqE-P-",
        "colab_type": "code",
        "colab": {}
      },
      "source": [
        "def one_hot(x, k, dtype=jnp.float32):\n",
        "  \"\"\"Create a one-hot encoding of x of size k.\"\"\"\n",
        "  return jnp.array(x[:, None] == jnp.arange(k), dtype)\n",
        "  \n",
        "y_train = one_hot(train_ds['label'], N_LABELS)\n",
        "y_test = one_hot(test_ds['label'], N_LABELS)"
      ],
      "execution_count": null,
      "outputs": []
    },
    {
      "cell_type": "code",
      "metadata": {
        "id": "FFJ2bjBwFRmn",
        "colab_type": "code",
        "colab": {}
      },
      "source": [
        "x_train = jnp_flat_image(train_ds['image'])\n",
        "x_test = jnp_flat_image(test_ds['image'])"
      ],
      "execution_count": null,
      "outputs": []
    },
    {
      "cell_type": "code",
      "metadata": {
        "id": "fiETMS5ZFN4q",
        "colab_type": "code",
        "colab": {}
      },
      "source": [
        "def accuracy(params, images, targets):\n",
        "  target_class = jnp.argmax(targets, axis=1)\n",
        "  predicted_class = jnp.argmax(batched_predict(params, images), axis=1)\n",
        "  return jnp.mean(predicted_class == target_class)\n",
        "\n",
        "def loss(params, images, targets):\n",
        "  preds = batched_predict(params, images)\n",
        "  return -jnp.mean(preds * targets)\n",
        "\n",
        "accuracy(params, x_train, y_train), loss(params, x_train, y_train)"
      ],
      "execution_count": null,
      "outputs": []
    },
    {
      "cell_type": "markdown",
      "metadata": {
        "id": "oOzEMxRvH2eZ",
        "colab_type": "text"
      },
      "source": [
        "# GRAD & JIT : gradientes y compilacion"
      ]
    },
    {
      "cell_type": "code",
      "metadata": {
        "id": "Lamv4euj-qxV",
        "colab_type": "code",
        "colab": {}
      },
      "source": [
        "LEARNING_RATE = 0.01\n",
        "@jit\n",
        "def update(params, x, y):\n",
        "  grads = jax.grad(loss)(params, x, y)\n",
        "  return [(w - LEARNING_RATE * dw, b - LEARNING_RATE * db)\n",
        "          for (w, b), (dw, db) in zip(params, grads)]"
      ],
      "execution_count": null,
      "outputs": []
    },
    {
      "cell_type": "markdown",
      "metadata": {
        "id": "ZdPpvBoWKVUt",
        "colab_type": "text"
      },
      "source": [
        "## Empieza el aprendizaje"
      ]
    },
    {
      "cell_type": "code",
      "metadata": {
        "id": "1W7Gr_Se-v7x",
        "colab_type": "code",
        "colab": {}
      },
      "source": [
        "BATCH_SIZE = 512\n",
        "NUM_EPOCHS = 50\n",
        "NUM_LABELS = 10\n",
        "\n",
        "pbar = tqdm.tqdm(range(NUM_EPOCHS))\n",
        "for epoch in pbar:\n",
        "    batch_indices = list(chunked(np.random.permutation(len(x_train)), BATCH_SIZE))[:-1]\n",
        "    for batch_index in batch_indices:\n",
        "        x = x_train[batch_index]\n",
        "        y = y_train[batch_index]\n",
        "        params = update(params, x, y)\n",
        "\n",
        "    pbar.set_postfix({'train_acc':accuracy(params, x_train, y_train),\n",
        "                      'test_acc':accuracy(params, x_test, y_test)})"
      ],
      "execution_count": null,
      "outputs": []
    },
    {
      "cell_type": "markdown",
      "metadata": {
        "id": "QtuFS0o2yjzE",
        "colab_type": "text"
      },
      "source": [
        "# Crea un modelo CNN con Flax\n",
        "\n"
      ]
    },
    {
      "cell_type": "code",
      "metadata": {
        "id": "_5bQ031JHpYL",
        "colab_type": "code",
        "colab": {}
      },
      "source": [
        "train_ds = tfds.load('mnist', split=tfds.Split.TRAIN)\n",
        "train_ds = train_ds.map(lambda x: {'image': tf.cast(x['image'], tf.float32),\n",
        "                                    'label': tf.cast(x['label'], tf.int32)})\n",
        "train_ds = train_ds.cache().shuffle(1000).batch(128)\n",
        "test_ds = tfds.as_numpy(tfds.load(\n",
        "    'mnist', split=tfds.Split.TEST, batch_size=-1))\n",
        "test_ds = {'image': test_ds['image'].astype(jnp.float32),\n",
        "            'label': test_ds['label'].astype(jnp.int32)}"
      ],
      "execution_count": null,
      "outputs": []
    },
    {
      "cell_type": "code",
      "metadata": {
        "id": "HAWLYUYtyysh",
        "colab_type": "code",
        "colab": {}
      },
      "source": [
        "class CNN(flax.nn.Module):\n",
        "  \"\"\"Una red convolucional.\"\"\"\n",
        "  \n",
        "  def apply(self, x):\n",
        "    x = nn.Conv(x, features=32, kernel_size=(3, 3))\n",
        "    x = nn.relu(x)\n",
        "    x = nn.avg_pool(x, window_shape=(2, 2), strides=(2, 2))\n",
        "    x = nn.Conv(x, features=64, kernel_size=(3, 3))\n",
        "    x = nn.relu(x)\n",
        "    x = nn.avg_pool(x, window_shape=(2, 2), strides=(2, 2))\n",
        "    x = x.reshape((x.shape[0], -1))  # flatten\n",
        "    x = nn.Dense(x, features=256)\n",
        "    x = nn.relu(x)\n",
        "    x = nn.Dense(x, features=10)\n",
        "    x = nn.log_softmax(x)\n",
        "    return x"
      ],
      "execution_count": null,
      "outputs": []
    },
    {
      "cell_type": "code",
      "metadata": {
        "id": "FyJfXhG0yffg",
        "colab_type": "code",
        "colab": {}
      },
      "source": [
        "rng = random.PRNGKey(0)\n",
        "rng, init_rng = random.split(rng)\n",
        "_, initial_params = CNN.init_by_shape(rng, [((1, 28, 28, 1), jnp.float32)])\n",
        "model = flax.nn.Model(CNN, initial_params)"
      ],
      "execution_count": null,
      "outputs": []
    },
    {
      "cell_type": "code",
      "metadata": {
        "id": "jnAjUBrUHlXD",
        "colab_type": "code",
        "colab": {}
      },
      "source": [
        "@jax.vmap\n",
        "def cross_entropy_loss(logits, label):\n",
        "  return -logits[label]\n",
        "\n",
        "def compute_metrics(logits, labels):\n",
        "  loss = jnp.mean(cross_entropy_loss(logits, labels))\n",
        "  accuracy = jnp.mean(jnp.argmax(logits, -1) == labels)\n",
        "  return {'loss': loss, 'accuracy': accuracy}\n",
        "\n",
        "@jax.jit\n",
        "def evaluate(model, eval_ds):\n",
        "  logits = model(eval_ds['image'] / 255.0)\n",
        "  return compute_metrics(logits, eval_ds['label'])\n",
        "  \n",
        "@jax.jit\n",
        "def train_step(optimizer, batch):\n",
        "  def loss_fn(model):\n",
        "    logits = model(batch['image'])\n",
        "    loss = jnp.mean(cross_entropy_loss(\n",
        "        logits, batch['label']))\n",
        "    return loss\n",
        "  grad = jax.grad(loss_fn)(optimizer.target)\n",
        "  optimizer = optimizer.apply_gradient(grad)\n",
        "  return optimizer"
      ],
      "execution_count": null,
      "outputs": []
    },
    {
      "cell_type": "markdown",
      "metadata": {
        "id": "JjFdCnOFyltx",
        "colab_type": "text"
      },
      "source": [
        "## Optimizador"
      ]
    },
    {
      "cell_type": "code",
      "metadata": {
        "id": "UokyO51ittjQ",
        "colab_type": "code",
        "colab": {}
      },
      "source": [
        "optimizer = flax.optim.Momentum(learning_rate=0.1, beta=0.9).create(model)"
      ],
      "execution_count": null,
      "outputs": []
    },
    {
      "cell_type": "markdown",
      "metadata": {
        "id": "oMUG2mKQyoqf",
        "colab_type": "text"
      },
      "source": [
        "## El training loop"
      ]
    },
    {
      "cell_type": "code",
      "metadata": {
        "id": "rOhEGTzetwcN",
        "colab_type": "code",
        "colab": {}
      },
      "source": [
        "NUM_EPOCHS = 10\n",
        "pbar = tqdm.tqdm(range(NUM_EPOCHS))\n",
        "stats = []\n",
        "for epoch in pbar:\n",
        "    for batch in tfds.as_numpy(train_ds):\n",
        "        batch['image'] = batch['image'] / 255.0\n",
        "        optimizer = train_step(optimizer, batch)\n",
        "    stats.append(evaluate(optimizer.target, test_ds))\n",
        "    pbar.set_postfix(stats[0])\n"
      ],
      "execution_count": null,
      "outputs": []
    },
    {
      "cell_type": "markdown",
      "metadata": {
        "id": "CGl4ykJ1JPqS",
        "colab_type": "text"
      },
      "source": [
        "# Aprendiendo representaciones\n",
        "\n",
        "Viendo los penultimate layer embeddings"
      ]
    },
    {
      "cell_type": "code",
      "metadata": {
        "id": "mFaNVUz2JPBF",
        "colab_type": "code",
        "colab": {}
      },
      "source": [
        ""
      ],
      "execution_count": null,
      "outputs": []
    }
  ]
}